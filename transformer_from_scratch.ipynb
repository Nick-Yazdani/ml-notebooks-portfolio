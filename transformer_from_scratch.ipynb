{
 "cells": [
  {
   "cell_type": "code",
   "execution_count": 1,
   "id": "ca77cfa6-02dc-490d-a6c0-c30ab78bf914",
   "metadata": {},
   "outputs": [
    {
     "name": "stderr",
     "output_type": "stream",
     "text": [
      "2022-12-07 18:14:39.409241: I tensorflow/core/util/util.cc:169] oneDNN custom operations are on. You may see slightly different numerical results due to floating-point round-off errors from different computation orders. To turn them off, set the environment variable `TF_ENABLE_ONEDNN_OPTS=0`.\n"
     ]
    }
   ],
   "source": [
    "import tensorflow as tf\n",
    "\n",
    "from tensorflow.keras import layers\n",
    "\n",
    "import numpy as np"
   ]
  },
  {
   "cell_type": "code",
   "execution_count": 2,
   "id": "d5fece1b-140c-43dc-86d1-074aa66183b8",
   "metadata": {},
   "outputs": [],
   "source": [
    "class PositionalEmbedding(layers.Layer):\n",
    "    def __init__(self, d_model, vocab_size, seq_len):\n",
    "        super(PositionalEmbedding, self).__init__()\n",
    "        self.seq_len = seq_len\n",
    "        self.d_model = d_model\n",
    "        self.embedding = layers.Embedding(vocab_size, d_model, input_length=seq_len, trainable=False)\n",
    "        self.positions = self.build_pos_embedding()\n",
    "        \n",
    "    def build_pos_embedding(self):\n",
    "        pos_e = np.zeros(shape=(self.seq_len, self.d_model))\n",
    "\n",
    "        for idx, x in enumerate(pos_e.T): # idx is I\n",
    "            for tidx, _ in enumerate(x):  # tidx is POS\n",
    "                if idx % 2 == 0:\n",
    "                    pos_e.T[idx][tidx] = np.sin(tidx / (10_000 ** (2 * idx / self.d_model)))\n",
    "                else:\n",
    "                    pos_e.T[idx][tidx] = np.cos(tidx / (10_000 ** (2 * idx / self.d_model)))\n",
    "\n",
    "            return pos_e\n",
    "\n",
    "    def call(self, inputs):\n",
    "        return self.embedding(inputs) + self.positions"
   ]
  },
  {
   "cell_type": "code",
   "execution_count": 3,
   "id": "b6c759f4-5784-4da1-91aa-7d15782cc9de",
   "metadata": {},
   "outputs": [],
   "source": [
    "class SelfAttention(layers.Layer):\n",
    "    def __init__(self, d_k, d_v):\n",
    "        super(SelfAttention, self).__init__()\n",
    "        self.d_k = d_k\n",
    "        self.d_v = d_v\n",
    "\n",
    "    def build(self, input_shape):\n",
    "        self.wq = self.add_weight(shape=(input_shape[-1], self.d_k))\n",
    "        self.wk = self.add_weight(shape=(input_shape[-1], self.d_k))\n",
    "        self.wv = self.add_weight(shape=(input_shape[-1], self.d_v))\n",
    "\n",
    "    def call(self, inputs):         \n",
    "        q = tf.matmul(inputs, self.wq)\n",
    "        k = tf.matmul(inputs, self.wk)\n",
    "        v = tf.matmul(inputs, self.wv)\n",
    "\n",
    "        qk = tf.matmul(q, tf.transpose(k, perm=[0, 2, 1]))\n",
    "        sqk = qk / tf.sqrt(tf.cast(tf.shape(k)[-1], dtype=tf.float32))\n",
    "        sqk = tf.math.softmax(sqk)\n",
    "        z = tf.matmul(sqk, v)\n",
    "\n",
    "        return z   "
   ]
  },
  {
   "cell_type": "code",
   "execution_count": 4,
   "id": "74b7cdd0-47b8-4398-8ac5-e27cc6aceec8",
   "metadata": {},
   "outputs": [],
   "source": [
    "class MultiHeadAttention(layers.Layer):\n",
    "    def __init__(self, d_k, d_v, num_heads):\n",
    "        super(MultiHeadAttention, self).__init__()\n",
    "        self.heads = [SelfAttention(d_k, d_v) for _ in range(num_heads)]\n",
    "        self.d_model = d_k * num_heads\n",
    "\n",
    "    def build(self, input_shape):\n",
    "        self.wz = self.add_weight(shape=(input_shape[-1], self.d_model))\n",
    "\n",
    "    def call(self, inputs):\n",
    "        z_s = tf.concat([head(inputs) for head in self.heads], axis=2)\n",
    "        z = tf.matmul(z_s, self.wz)\n",
    "\n",
    "        return z   "
   ]
  },
  {
   "cell_type": "code",
   "execution_count": 5,
   "id": "b6f8822f-335a-4d63-960b-5be1ad085d04",
   "metadata": {},
   "outputs": [],
   "source": [
    "class AddNorm(layers.Layer):\n",
    "    def __init__(self):\n",
    "        super(AddNorm, self).__init__()\n",
    "        self.norm = layers.LayerNormalization()\n",
    "        self.add = layers.Add()\n",
    "\n",
    "    def call(self, x, y):\n",
    "        z = self.norm(self.add([x, y]))\n",
    "        \n",
    "        return z   "
   ]
  },
  {
   "cell_type": "code",
   "execution_count": 6,
   "id": "b082e4ee-e95e-42bf-881f-86352e55e9c7",
   "metadata": {},
   "outputs": [],
   "source": [
    "class FeedForward(layers.Layer):\n",
    "    def __init__(self, ff_d):\n",
    "        super(FeedForward, self).__init__()\n",
    "        self.ff_1 = layers.Dense(ff_d * 4)\n",
    "        self.ff_2 = layers.Dense(ff_d, activation=\"relu\")\n",
    "    \n",
    "    def call(self, inputs):\n",
    "        x = self.ff_1(inputs)\n",
    "        x = self.ff_2(x)\n",
    "\n",
    "        return x"
   ]
  },
  {
   "cell_type": "code",
   "execution_count": 7,
   "id": "e944526b-b82d-4f3e-9859-4f51942f41eb",
   "metadata": {},
   "outputs": [],
   "source": [
    "class EncoderLayer(layers.Layer):\n",
    "    def __init__(self, d_k, d_v, num_heads, **kwargs):\n",
    "        super(EncoderLayer, self).__init__(**kwargs)\n",
    "        self.mha = MultiHeadAttention(d_k, d_v, num_heads)\n",
    "        self.add_norm = AddNorm()\n",
    "        self.ff = FeedForward(d_k * num_heads)\n",
    "        self.dropout1 = layers.Dropout(0.2)\n",
    "        self.dropout2 = layers.Dropout(0.2)\n",
    "        \n",
    "    def call(self, inputs, training):        \n",
    "        z = self.mha(inputs)\n",
    "        z = self.dropout1(z, training=training)\n",
    "        z = self.add_norm(z, inputs)\n",
    "        y = self.ff(z)\n",
    "        y = self.dropout2(y, training=training)\n",
    "        x = self.add_norm(y, z)\n",
    "        \n",
    "        return x"
   ]
  },
  {
   "cell_type": "code",
   "execution_count": 8,
   "id": "7c4bdc5e-4adc-4266-85a9-92e9c5e5430f",
   "metadata": {},
   "outputs": [],
   "source": [
    "class Encoder(layers.Layer):\n",
    "    def __init__(self, d_k, d_v, num_heads, num_layers, **kwargs):\n",
    "        super(Encoder, self).__init__(**kwargs)\n",
    "        self.encoders = [EncoderLayer(d_k, d_v, num_heads, **kwargs) for _ in range(num_layers)]\n",
    "\n",
    "    def call(self, inputs):\n",
    "        x = self.encoders[0](inputs)\n",
    "        for encoder in self.encoders[1:]:\n",
    "            x = encoder(x)\n",
    "            \n",
    "        return x"
   ]
  },
  {
   "cell_type": "code",
   "execution_count": 9,
   "id": "fbfc642d-80c4-4362-8f95-aa678cc8d422",
   "metadata": {},
   "outputs": [],
   "source": [
    "import pandas as pd"
   ]
  },
  {
   "cell_type": "code",
   "execution_count": 10,
   "id": "24129c6a-6152-45cb-a246-ec5eb41c397a",
   "metadata": {},
   "outputs": [],
   "source": [
    "df = pd.read_csv(\"data/spamming.csv\")"
   ]
  },
  {
   "cell_type": "code",
   "execution_count": 11,
   "id": "93e4daf0-c37b-4883-9951-47d36e3e1706",
   "metadata": {},
   "outputs": [
    {
     "name": "stderr",
     "output_type": "stream",
     "text": [
      "2022-12-07 18:14:40.776719: I tensorflow/stream_executor/cuda/cuda_gpu_executor.cc:975] successful NUMA node read from SysFS had negative value (-1), but there must be at least one NUMA node, so returning NUMA node zero\n",
      "2022-12-07 18:14:40.801231: I tensorflow/stream_executor/cuda/cuda_gpu_executor.cc:975] successful NUMA node read from SysFS had negative value (-1), but there must be at least one NUMA node, so returning NUMA node zero\n",
      "2022-12-07 18:14:40.801374: I tensorflow/stream_executor/cuda/cuda_gpu_executor.cc:975] successful NUMA node read from SysFS had negative value (-1), but there must be at least one NUMA node, so returning NUMA node zero\n",
      "2022-12-07 18:14:40.802955: I tensorflow/core/platform/cpu_feature_guard.cc:193] This TensorFlow binary is optimized with oneAPI Deep Neural Network Library (oneDNN) to use the following CPU instructions in performance-critical operations:  AVX2 AVX_VNNI FMA\n",
      "To enable them in other operations, rebuild TensorFlow with the appropriate compiler flags.\n",
      "2022-12-07 18:14:40.804035: I tensorflow/stream_executor/cuda/cuda_gpu_executor.cc:975] successful NUMA node read from SysFS had negative value (-1), but there must be at least one NUMA node, so returning NUMA node zero\n",
      "2022-12-07 18:14:40.804149: I tensorflow/stream_executor/cuda/cuda_gpu_executor.cc:975] successful NUMA node read from SysFS had negative value (-1), but there must be at least one NUMA node, so returning NUMA node zero\n",
      "2022-12-07 18:14:40.804219: I tensorflow/stream_executor/cuda/cuda_gpu_executor.cc:975] successful NUMA node read from SysFS had negative value (-1), but there must be at least one NUMA node, so returning NUMA node zero\n",
      "2022-12-07 18:14:41.120665: I tensorflow/stream_executor/cuda/cuda_gpu_executor.cc:975] successful NUMA node read from SysFS had negative value (-1), but there must be at least one NUMA node, so returning NUMA node zero\n",
      "2022-12-07 18:14:41.121094: I tensorflow/stream_executor/cuda/cuda_gpu_executor.cc:975] successful NUMA node read from SysFS had negative value (-1), but there must be at least one NUMA node, so returning NUMA node zero\n",
      "2022-12-07 18:14:41.121491: I tensorflow/stream_executor/cuda/cuda_gpu_executor.cc:975] successful NUMA node read from SysFS had negative value (-1), but there must be at least one NUMA node, so returning NUMA node zero\n",
      "2022-12-07 18:14:41.121565: I tensorflow/core/common_runtime/gpu/gpu_device.cc:1532] Created device /job:localhost/replica:0/task:0/device:GPU:0 with 14228 MB memory:  -> device: 0, name: NVIDIA GeForce RTX 3080 Ti Laptop GPU, pci bus id: 0000:01:00.0, compute capability: 8.6\n"
     ]
    }
   ],
   "source": [
    "tv = layers.TextVectorization(max_tokens=10_000, output_sequence_length=128)"
   ]
  },
  {
   "cell_type": "code",
   "execution_count": 12,
   "id": "4b4f824b-c7ad-4b38-944d-5019b64d565b",
   "metadata": {},
   "outputs": [],
   "source": [
    "train = df.sample(frac=0.8, random_state=42)\n",
    "test = df.drop(train.index)"
   ]
  },
  {
   "cell_type": "code",
   "execution_count": 13,
   "id": "54c527d7-2e17-420f-a22c-abb680af5661",
   "metadata": {},
   "outputs": [],
   "source": [
    "tv.adapt(train.MESSAGE)"
   ]
  },
  {
   "cell_type": "code",
   "execution_count": 14,
   "id": "38fd86e4-fe06-4c6a-95f4-3466e1c3cb17",
   "metadata": {},
   "outputs": [],
   "source": [
    "train_labels = train.CATEGORY.values\n",
    "test_labels = test.CATEGORY.values"
   ]
  },
  {
   "cell_type": "code",
   "execution_count": 15,
   "id": "c3ef542a-4846-42d3-a949-7aff54433f7c",
   "metadata": {},
   "outputs": [],
   "source": [
    "text_input = layers.Input(shape=(1, ), dtype=tf.string)\n",
    "x = tv(text_input)\n",
    "x = PositionalEmbedding(768, len(tv.get_vocabulary()), 128)(x)\n",
    "x = Encoder(64, 64, 12, 5)(x)\n",
    "x = layers.Flatten()(x)\n",
    "x = layers.Dense(512, activation=\"relu\")(x)\n",
    "x = layers.Dropout(0.2)(x)\n",
    "x = layers.Dense(1, activation=\"sigmoid\")(x)\n",
    "\n",
    "model = tf.keras.Model(text_input, x)"
   ]
  },
  {
   "cell_type": "code",
   "execution_count": 16,
   "id": "13f992ee-7a8d-4122-8f5e-8864db64868d",
   "metadata": {},
   "outputs": [
    {
     "name": "stdout",
     "output_type": "stream",
     "text": [
      "Model: \"model\"\n",
      "_________________________________________________________________\n",
      " Layer (type)                Output Shape              Param #   \n",
      "=================================================================\n",
      " input_1 (InputLayer)        [(None, 1)]               0         \n",
      "                                                                 \n",
      " text_vectorization (TextVec  (None, 128)              0         \n",
      " torization)                                                     \n",
      "                                                                 \n",
      " positional_embedding (Posit  (None, 128, 768)         7680000   \n",
      " ionalEmbedding)                                                 \n",
      "                                                                 \n",
      " encoder (Encoder)           (None, 128, 768)          35416320  \n",
      "                                                                 \n",
      " flatten (Flatten)           (None, 98304)             0         \n",
      "                                                                 \n",
      " dense_10 (Dense)            (None, 512)               50332160  \n",
      "                                                                 \n",
      " dropout_10 (Dropout)        (None, 512)               0         \n",
      "                                                                 \n",
      " dense_11 (Dense)            (None, 1)                 513       \n",
      "                                                                 \n",
      "=================================================================\n",
      "Total params: 93,428,993\n",
      "Trainable params: 85,748,993\n",
      "Non-trainable params: 7,680,000\n",
      "_________________________________________________________________\n"
     ]
    }
   ],
   "source": [
    "model.summary()"
   ]
  },
  {
   "cell_type": "code",
   "execution_count": 17,
   "id": "fdac571f-5316-41c4-b20f-97f7abe99772",
   "metadata": {},
   "outputs": [],
   "source": [
    "model.compile(\n",
    "    optimizer=tf.keras.optimizers.Adam(1e-5),\n",
    "    loss=\"binary_crossentropy\",\n",
    "    metrics=\"accuracy\"\n",
    ")"
   ]
  },
  {
   "cell_type": "code",
   "execution_count": 18,
   "id": "71f5fc85-b831-4530-8e5a-9d5c6c7b97c7",
   "metadata": {},
   "outputs": [
    {
     "name": "stdout",
     "output_type": "stream",
     "text": [
      "Epoch 1/15\n",
      "  1/145 [..............................] - ETA: 22:00 - loss: 0.7024 - accuracy: 0.5625"
     ]
    },
    {
     "name": "stderr",
     "output_type": "stream",
     "text": [
      "2022-12-07 18:14:52.724387: I tensorflow/stream_executor/cuda/cuda_dnn.cc:384] Loaded cuDNN version 8600\n",
      "2022-12-07 18:14:52.767288: I tensorflow/stream_executor/cuda/cuda_blas.cc:1786] TensorFloat-32 will be used for the matrix multiplication. This will only be logged once.\n"
     ]
    },
    {
     "name": "stdout",
     "output_type": "stream",
     "text": [
      "145/145 [==============================] - 29s 138ms/step - loss: 0.3163 - accuracy: 0.8775 - val_loss: 0.4328 - val_accuracy: 0.8852\n",
      "Epoch 2/15\n",
      "145/145 [==============================] - 19s 132ms/step - loss: 0.1713 - accuracy: 0.9390 - val_loss: 0.1376 - val_accuracy: 0.9664\n",
      "Epoch 3/15\n",
      "145/145 [==============================] - 19s 133ms/step - loss: 0.0838 - accuracy: 0.9698 - val_loss: 0.1681 - val_accuracy: 0.9646\n",
      "Epoch 4/15\n",
      "145/145 [==============================] - 19s 133ms/step - loss: 0.0640 - accuracy: 0.9793 - val_loss: 0.1687 - val_accuracy: 0.9664\n",
      "Epoch 5/15\n",
      "145/145 [==============================] - 19s 133ms/step - loss: 0.0485 - accuracy: 0.9827 - val_loss: 0.1420 - val_accuracy: 0.9707\n",
      "Epoch 6/15\n",
      "145/145 [==============================] - 19s 131ms/step - loss: 0.0422 - accuracy: 0.9853 - val_loss: 0.1433 - val_accuracy: 0.9681\n",
      "Epoch 7/15\n",
      "145/145 [==============================] - 19s 132ms/step - loss: 0.0239 - accuracy: 0.9918 - val_loss: 0.1663 - val_accuracy: 0.9681\n",
      "Epoch 8/15\n",
      "145/145 [==============================] - 19s 133ms/step - loss: 0.0245 - accuracy: 0.9912 - val_loss: 0.1666 - val_accuracy: 0.9724\n",
      "Epoch 9/15\n",
      "145/145 [==============================] - 19s 133ms/step - loss: 0.0186 - accuracy: 0.9944 - val_loss: 0.1812 - val_accuracy: 0.9741\n",
      "Epoch 10/15\n",
      "145/145 [==============================] - 19s 132ms/step - loss: 0.0165 - accuracy: 0.9940 - val_loss: 0.2084 - val_accuracy: 0.9750\n",
      "Epoch 11/15\n",
      "145/145 [==============================] - 19s 131ms/step - loss: 0.0093 - accuracy: 0.9970 - val_loss: 0.2221 - val_accuracy: 0.9707\n",
      "Epoch 12/15\n",
      "145/145 [==============================] - 19s 132ms/step - loss: 0.0433 - accuracy: 0.9877 - val_loss: 0.1906 - val_accuracy: 0.9672\n",
      "Epoch 13/15\n",
      "145/145 [==============================] - 19s 132ms/step - loss: 0.0164 - accuracy: 0.9937 - val_loss: 0.1719 - val_accuracy: 0.9620\n",
      "Epoch 14/15\n",
      "145/145 [==============================] - 19s 132ms/step - loss: 0.0146 - accuracy: 0.9961 - val_loss: 0.1569 - val_accuracy: 0.9767\n",
      "Epoch 15/15\n",
      "145/145 [==============================] - 19s 132ms/step - loss: 0.0091 - accuracy: 0.9961 - val_loss: 0.2297 - val_accuracy: 0.9741\n"
     ]
    },
    {
     "data": {
      "text/plain": [
       "<keras.callbacks.History at 0x7f41a019fd90>"
      ]
     },
     "execution_count": 18,
     "metadata": {},
     "output_type": "execute_result"
    }
   ],
   "source": [
    "model.fit(train.MESSAGE.values, train_labels, epochs=15, validation_data=(test.MESSAGE.values, test_labels))"
   ]
  },
  {
   "cell_type": "code",
   "execution_count": null,
   "id": "08f0645a-629f-47ab-86ee-1f0fd9f24719",
   "metadata": {},
   "outputs": [],
   "source": []
  },
  {
   "cell_type": "code",
   "execution_count": null,
   "id": "280840e5-3d35-4e78-88b7-e8db8b5931f8",
   "metadata": {},
   "outputs": [],
   "source": []
  },
  {
   "cell_type": "code",
   "execution_count": null,
   "id": "4cc4d7d1-45fb-48a4-85eb-bf873f1a1f99",
   "metadata": {},
   "outputs": [],
   "source": []
  },
  {
   "cell_type": "code",
   "execution_count": null,
   "id": "9a3b92d1-6f74-49df-b8b7-2e244f00e567",
   "metadata": {},
   "outputs": [],
   "source": []
  },
  {
   "cell_type": "code",
   "execution_count": null,
   "id": "063feed6-c555-4c8c-9d5e-2ce2680c451d",
   "metadata": {},
   "outputs": [],
   "source": []
  }
 ],
 "metadata": {
  "kernelspec": {
   "display_name": "Python 3 (ipykernel)",
   "language": "python",
   "name": "python3"
  },
  "language_info": {
   "codemirror_mode": {
    "name": "ipython",
    "version": 3
   },
   "file_extension": ".py",
   "mimetype": "text/x-python",
   "name": "python",
   "nbconvert_exporter": "python",
   "pygments_lexer": "ipython3",
   "version": "3.10.8"
  }
 },
 "nbformat": 4,
 "nbformat_minor": 5
}
