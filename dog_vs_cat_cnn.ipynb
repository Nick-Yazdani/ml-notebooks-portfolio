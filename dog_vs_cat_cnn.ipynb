{
 "cells": [
  {
   "cell_type": "code",
   "execution_count": 1,
   "metadata": {
    "colab": {
     "base_uri": "https://localhost:8080/"
    },
    "id": "PGJRh5VHgc__",
    "outputId": "3288ad82-548b-4be7-e8e0-db7f12c1768d"
   },
   "outputs": [
    {
     "name": "stdout",
     "output_type": "stream",
     "text": [
      "Warning: Your Kaggle API key is readable by other users on this system! To fix this, you can run 'chmod 600 /home/nick/.kaggle/kaggle.json'\n",
      "Downloading cat-and-dog.zip to /home/nick/portfolio\n",
      "100%|███████████████████████████████████████▊| 217M/218M [00:18<00:00, 12.4MB/s]\n",
      "100%|████████████████████████████████████████| 218M/218M [00:18<00:00, 12.1MB/s]\n"
     ]
    }
   ],
   "source": [
    "!kaggle datasets download \"tongpython/cat-and-dog\""
   ]
  },
  {
   "cell_type": "code",
   "execution_count": 2,
   "metadata": {
    "id": "nYuNWscBgnwe"
   },
   "outputs": [
    {
     "name": "stdout",
     "output_type": "stream",
     "text": [
      "replace test_set/test_set/cats/_DS_Store? [y]es, [n]o, [A]ll, [N]one, [r]ename: ^C\n"
     ]
    }
   ],
   "source": [
    "!unzip -qq cat-and-dog.zip"
   ]
  },
  {
   "cell_type": "code",
   "execution_count": 3,
   "metadata": {
    "id": "cMWuw-_ngrGr"
   },
   "outputs": [],
   "source": [
    "!rm cat-and-dog.zip"
   ]
  },
  {
   "cell_type": "code",
   "execution_count": 4,
   "metadata": {
    "id": "8GdobJEqhyJT"
   },
   "outputs": [
    {
     "name": "stderr",
     "output_type": "stream",
     "text": [
      "2022-12-07 18:39:17.217353: I tensorflow/core/util/util.cc:169] oneDNN custom operations are on. You may see slightly different numerical results due to floating-point round-off errors from different computation orders. To turn them off, set the environment variable `TF_ENABLE_ONEDNN_OPTS=0`.\n"
     ]
    }
   ],
   "source": [
    "import tensorflow as tf\n",
    "\n",
    "from tensorflow.keras import layers\n",
    "from tensorflow.keras.utils import image_dataset_from_directory"
   ]
  },
  {
   "cell_type": "code",
   "execution_count": 5,
   "metadata": {
    "id": "jekHMZ9wgxMY"
   },
   "outputs": [],
   "source": [
    "TRAIN_DIRECTORY = \"training_set/training_set\"\n",
    "TEST_DIRECTORY = \"test_set/test_set\"\n",
    "\n",
    "BATCH_SIZE = 64\n",
    "IMAGE_SHAPE = (256, 256, 3)"
   ]
  },
  {
   "cell_type": "code",
   "execution_count": 6,
   "metadata": {
    "colab": {
     "base_uri": "https://localhost:8080/"
    },
    "id": "OW-950AKg2di",
    "outputId": "188c2f8a-2e1f-4ce3-a8db-a5ad76d7220e"
   },
   "outputs": [
    {
     "name": "stdout",
     "output_type": "stream",
     "text": [
      "Found 8005 files belonging to 2 classes.\n",
      "Using 6404 files for training.\n"
     ]
    },
    {
     "name": "stderr",
     "output_type": "stream",
     "text": [
      "2022-12-07 18:39:18.572530: I tensorflow/stream_executor/cuda/cuda_gpu_executor.cc:975] successful NUMA node read from SysFS had negative value (-1), but there must be at least one NUMA node, so returning NUMA node zero\n",
      "2022-12-07 18:39:18.601462: I tensorflow/stream_executor/cuda/cuda_gpu_executor.cc:975] successful NUMA node read from SysFS had negative value (-1), but there must be at least one NUMA node, so returning NUMA node zero\n",
      "2022-12-07 18:39:18.601610: I tensorflow/stream_executor/cuda/cuda_gpu_executor.cc:975] successful NUMA node read from SysFS had negative value (-1), but there must be at least one NUMA node, so returning NUMA node zero\n",
      "2022-12-07 18:39:18.602285: I tensorflow/core/platform/cpu_feature_guard.cc:193] This TensorFlow binary is optimized with oneAPI Deep Neural Network Library (oneDNN) to use the following CPU instructions in performance-critical operations:  AVX2 AVX_VNNI FMA\n",
      "To enable them in other operations, rebuild TensorFlow with the appropriate compiler flags.\n",
      "2022-12-07 18:39:18.602791: I tensorflow/stream_executor/cuda/cuda_gpu_executor.cc:975] successful NUMA node read from SysFS had negative value (-1), but there must be at least one NUMA node, so returning NUMA node zero\n",
      "2022-12-07 18:39:18.602902: I tensorflow/stream_executor/cuda/cuda_gpu_executor.cc:975] successful NUMA node read from SysFS had negative value (-1), but there must be at least one NUMA node, so returning NUMA node zero\n",
      "2022-12-07 18:39:18.602970: I tensorflow/stream_executor/cuda/cuda_gpu_executor.cc:975] successful NUMA node read from SysFS had negative value (-1), but there must be at least one NUMA node, so returning NUMA node zero\n",
      "2022-12-07 18:39:18.916439: I tensorflow/stream_executor/cuda/cuda_gpu_executor.cc:975] successful NUMA node read from SysFS had negative value (-1), but there must be at least one NUMA node, so returning NUMA node zero\n",
      "2022-12-07 18:39:18.916574: I tensorflow/stream_executor/cuda/cuda_gpu_executor.cc:975] successful NUMA node read from SysFS had negative value (-1), but there must be at least one NUMA node, so returning NUMA node zero\n",
      "2022-12-07 18:39:18.916648: I tensorflow/stream_executor/cuda/cuda_gpu_executor.cc:975] successful NUMA node read from SysFS had negative value (-1), but there must be at least one NUMA node, so returning NUMA node zero\n",
      "2022-12-07 18:39:18.916722: I tensorflow/core/common_runtime/gpu/gpu_device.cc:1532] Created device /job:localhost/replica:0/task:0/device:GPU:0 with 14228 MB memory:  -> device: 0, name: NVIDIA GeForce RTX 3080 Ti Laptop GPU, pci bus id: 0000:01:00.0, compute capability: 8.6\n"
     ]
    },
    {
     "name": "stdout",
     "output_type": "stream",
     "text": [
      "Found 8005 files belonging to 2 classes.\n",
      "Using 1601 files for validation.\n",
      "Found 2023 files belonging to 2 classes.\n"
     ]
    }
   ],
   "source": [
    "train_dataset = image_dataset_from_directory(TRAIN_DIRECTORY, validation_split=0.2, subset=\"training\", seed=42, image_size=IMAGE_SHAPE[:-1], batch_size=BATCH_SIZE)\n",
    "validation_dataset = image_dataset_from_directory(TRAIN_DIRECTORY, validation_split=0.2, subset=\"validation\", seed=42, image_size=IMAGE_SHAPE[:-1], batch_size=BATCH_SIZE)\n",
    "test_dataset = image_dataset_from_directory(TEST_DIRECTORY, image_size=IMAGE_SHAPE[:-1], batch_size=BATCH_SIZE)"
   ]
  },
  {
   "cell_type": "code",
   "execution_count": 7,
   "metadata": {
    "id": "qXQLEIQyiMc_"
   },
   "outputs": [],
   "source": [
    "AUTOTUNE = tf.data.AUTOTUNE"
   ]
  },
  {
   "cell_type": "code",
   "execution_count": 8,
   "metadata": {
    "id": "_N1pqS9IiaBC"
   },
   "outputs": [],
   "source": [
    "train_dataset = train_dataset.cache().shuffle(1000).prefetch(buffer_size=AUTOTUNE)\n",
    "validation_dataset = validation_dataset.cache().prefetch(buffer_size=AUTOTUNE)"
   ]
  },
  {
   "cell_type": "code",
   "execution_count": 9,
   "metadata": {},
   "outputs": [],
   "source": [
    "vgg19 = tf.keras.applications.vgg19.VGG19(\n",
    "    include_top=False,\n",
    "    weights=\"imagenet\",\n",
    "    input_tensor=None,\n",
    "    input_shape=(256, 256, 3),\n",
    "    pooling=None,\n",
    "    classes=1,\n",
    ")"
   ]
  },
  {
   "cell_type": "code",
   "execution_count": 10,
   "metadata": {
    "id": "v6lM7lwhjAFK"
   },
   "outputs": [],
   "source": [
    "def build_model(pretrained_model):  \n",
    "    x = layers.Flatten()(pretrained_model.output)\n",
    "    x = layers.Dense(1024, activation=\"relu\")(x)\n",
    "    x = layers.Dropout(0.2)(x)\n",
    "    x = layers.Dense(512, activation=\"relu\")(x)\n",
    "    x = layers.Dropout(0.2)(x)\n",
    "    x = layers.Dense(1)(x)\n",
    "\n",
    "    model = tf.keras.models.Model(pretrained_model.input, x)\n",
    "\n",
    "    model.compile(\n",
    "        optimizer=tf.keras.optimizers.Adam(1e-5), \n",
    "        loss=tf.keras.losses.BinaryCrossentropy(from_logits=True), \n",
    "        metrics=[\"accuracy\"]\n",
    "    )\n",
    "\n",
    "    return model"
   ]
  },
  {
   "cell_type": "code",
   "execution_count": 11,
   "metadata": {
    "id": "523CbCtMjuPt"
   },
   "outputs": [],
   "source": [
    "model = build_model(vgg19)"
   ]
  },
  {
   "cell_type": "code",
   "execution_count": 12,
   "metadata": {},
   "outputs": [],
   "source": [
    "es = tf.keras.callbacks.EarlyStopping(patience=2, restore_best_weights=True)"
   ]
  },
  {
   "cell_type": "code",
   "execution_count": 13,
   "metadata": {
    "colab": {
     "base_uri": "https://localhost:8080/"
    },
    "id": "v9A86c0Aj-Nv",
    "outputId": "6da46c56-10a9-496d-e656-6d9496d1c2f9"
   },
   "outputs": [
    {
     "name": "stdout",
     "output_type": "stream",
     "text": [
      "Epoch 1/1000\n"
     ]
    },
    {
     "name": "stderr",
     "output_type": "stream",
     "text": [
      "2022-12-07 18:39:21.803827: I tensorflow/stream_executor/cuda/cuda_dnn.cc:384] Loaded cuDNN version 8600\n",
      "2022-12-07 18:39:22.251092: I tensorflow/core/platform/default/subprocess.cc:304] Start cannot spawn child process: No such file or directory\n",
      "2022-12-07 18:39:24.570951: I tensorflow/stream_executor/cuda/cuda_blas.cc:1786] TensorFloat-32 will be used for the matrix multiplication. This will only be logged once.\n"
     ]
    },
    {
     "name": "stdout",
     "output_type": "stream",
     "text": [
      "101/101 [==============================] - 76s 679ms/step - loss: 0.5839 - accuracy: 0.8364 - val_loss: 0.0794 - val_accuracy: 0.9600\n",
      "Epoch 2/1000\n",
      "101/101 [==============================] - 68s 670ms/step - loss: 0.0942 - accuracy: 0.9647 - val_loss: 0.0487 - val_accuracy: 0.9800\n",
      "Epoch 3/1000\n",
      "101/101 [==============================] - 67s 664ms/step - loss: 0.0394 - accuracy: 0.9827 - val_loss: 0.0609 - val_accuracy: 0.9706\n",
      "Epoch 4/1000\n",
      "101/101 [==============================] - 67s 660ms/step - loss: 0.0175 - accuracy: 0.9934 - val_loss: 0.0386 - val_accuracy: 0.9844\n",
      "Epoch 5/1000\n",
      "101/101 [==============================] - 66s 658ms/step - loss: 0.0082 - accuracy: 0.9966 - val_loss: 0.0388 - val_accuracy: 0.9881\n",
      "Epoch 6/1000\n",
      "101/101 [==============================] - 66s 657ms/step - loss: 0.0060 - accuracy: 0.9980 - val_loss: 0.0372 - val_accuracy: 0.9888\n",
      "Epoch 7/1000\n",
      "101/101 [==============================] - 66s 655ms/step - loss: 0.0039 - accuracy: 0.9986 - val_loss: 0.0404 - val_accuracy: 0.9881\n",
      "Epoch 8/1000\n",
      "101/101 [==============================] - 67s 659ms/step - loss: 0.0025 - accuracy: 0.9995 - val_loss: 0.0438 - val_accuracy: 0.9881\n"
     ]
    },
    {
     "data": {
      "text/plain": [
       "<keras.callbacks.History at 0x7f9fd7f2dc90>"
      ]
     },
     "execution_count": 13,
     "metadata": {},
     "output_type": "execute_result"
    }
   ],
   "source": [
    "model.fit(train_dataset, validation_data=validation_dataset, epochs=1000, callbacks=[es])"
   ]
  },
  {
   "cell_type": "code",
   "execution_count": 14,
   "metadata": {
    "colab": {
     "base_uri": "https://localhost:8080/",
     "height": 35
    },
    "id": "D-rO_6iCsYfH",
    "outputId": "3f9e5651-da70-456a-82a2-2cc9c7aca49f"
   },
   "outputs": [
    {
     "data": {
      "text/plain": [
       "'97.87% accuracy on test set'"
      ]
     },
     "execution_count": 14,
     "metadata": {},
     "output_type": "execute_result"
    }
   ],
   "source": [
    "f\"{round(model.evaluate(test_dataset, verbose=0)[1], 4) * 100}% accuracy on test set\" "
   ]
  },
  {
   "cell_type": "code",
   "execution_count": null,
   "metadata": {
    "id": "iNjfZG8GuIIY"
   },
   "outputs": [],
   "source": []
  }
 ],
 "metadata": {
  "colab": {
   "authorship_tag": "ABX9TyNOH+manxuKMe6uRjrSAmDA",
   "include_colab_link": true,
   "name": "dog_vs_cat_cnn.ipynb",
   "provenance": []
  },
  "kernelspec": {
   "display_name": "Python 3 (ipykernel)",
   "language": "python",
   "name": "python3"
  },
  "language_info": {
   "codemirror_mode": {
    "name": "ipython",
    "version": 3
   },
   "file_extension": ".py",
   "mimetype": "text/x-python",
   "name": "python",
   "nbconvert_exporter": "python",
   "pygments_lexer": "ipython3",
   "version": "3.10.8"
  }
 },
 "nbformat": 4,
 "nbformat_minor": 1
}
