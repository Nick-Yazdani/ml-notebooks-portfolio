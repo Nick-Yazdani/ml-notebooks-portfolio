{
  "nbformat": 4,
  "nbformat_minor": 0,
  "metadata": {
    "colab": {
      "name": "dnn_cnn_diamond_val.ipynb",
      "provenance": [],
      "collapsed_sections": [],
      "authorship_tag": "ABX9TyNbi5Zh7vKttCf6j0u4bT0R",
      "include_colab_link": true
    },
    "kernelspec": {
      "name": "python3",
      "display_name": "Python 3"
    },
    "language_info": {
      "name": "python"
    }
  },
  "cells": [
    {
      "cell_type": "markdown",
      "metadata": {
        "id": "view-in-github",
        "colab_type": "text"
      },
      "source": [
        "<a href=\"https://colab.research.google.com/github/Nick-Yazdani/ml-notebooks-portfolio/blob/main/dnn_cnn_diamond_val.ipynb\" target=\"_parent\"><img src=\"https://colab.research.google.com/assets/colab-badge.svg\" alt=\"Open In Colab\"/></a>"
      ]
    },
    {
      "cell_type": "code",
      "execution_count": 6,
      "metadata": {
        "id": "MtRJeIve9_iQ"
      },
      "outputs": [],
      "source": [
        "from google.colab import files"
      ]
    },
    {
      "cell_type": "code",
      "source": [
        "uploaded = files.upload()"
      ],
      "metadata": {
        "colab": {
          "resources": {
            "http://localhost:8080/nbextensions/google.colab/files.js": {
              "data": "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",
              "ok": true,
              "headers": [
                [
                  "content-type",
                  "application/javascript"
                ]
              ],
              "status": 200,
              "status_text": ""
            }
          },
          "base_uri": "https://localhost:8080/",
          "height": 73
        },
        "id": "rGItw0s9-ekv",
        "outputId": "3e278858-5a42-4d54-d078-f35e066d0b0a"
      },
      "execution_count": 7,
      "outputs": [
        {
          "output_type": "display_data",
          "data": {
            "text/plain": [
              "<IPython.core.display.HTML object>"
            ],
            "text/html": [
              "\n",
              "     <input type=\"file\" id=\"files-05ad4be6-7da0-4125-b50b-e2126fd24cd2\" name=\"files[]\" multiple disabled\n",
              "        style=\"border:none\" />\n",
              "     <output id=\"result-05ad4be6-7da0-4125-b50b-e2126fd24cd2\">\n",
              "      Upload widget is only available when the cell has been executed in the\n",
              "      current browser session. Please rerun this cell to enable.\n",
              "      </output>\n",
              "      <script src=\"/nbextensions/google.colab/files.js\"></script> "
            ]
          },
          "metadata": {}
        },
        {
          "output_type": "stream",
          "name": "stdout",
          "text": [
            "Saving kaggle.json to kaggle.json\n"
          ]
        }
      ]
    },
    {
      "cell_type": "code",
      "source": [
        "for fn in uploaded.keys():\n",
        "  print('User uploaded file \"{name}\" with length {length} bytes'.format(name=fn, length=len(uploaded[fn])))"
      ],
      "metadata": {
        "colab": {
          "base_uri": "https://localhost:8080/"
        },
        "id": "snyQnt19-rwq",
        "outputId": "7f0a85be-f6ff-4985-9ed8-4a802ffcb126"
      },
      "execution_count": 8,
      "outputs": [
        {
          "output_type": "stream",
          "name": "stdout",
          "text": [
            "User uploaded file \"kaggle.json\" with length 70 bytes\n"
          ]
        }
      ]
    },
    {
      "cell_type": "code",
      "source": [
        "!mkdir -p ~/.kaggle/ && mv kaggle.json ~/.kaggle/ && chmod 600 ~/.kaggle/kaggle.json"
      ],
      "metadata": {
        "id": "YtxZvAnw-9Zd"
      },
      "execution_count": 9,
      "outputs": []
    },
    {
      "cell_type": "code",
      "source": [
        "!kaggle datasets download \"harshitlakhani/natural-diamonds-prices-images\""
      ],
      "metadata": {
        "colab": {
          "base_uri": "https://localhost:8080/"
        },
        "id": "a8jNmVaY-_v6",
        "outputId": "e0bb58eb-4591-483c-bd6a-38dee1c72e68"
      },
      "execution_count": 10,
      "outputs": [
        {
          "output_type": "stream",
          "name": "stdout",
          "text": [
            "Downloading natural-diamonds-prices-images.zip to /content\n",
            " 97% 149M/154M [00:01<00:00, 114MB/s]\n",
            "100% 154M/154M [00:01<00:00, 95.4MB/s]\n"
          ]
        }
      ]
    },
    {
      "cell_type": "code",
      "source": [
        "!unzip natural-diamonds-prices-images.zip"
      ],
      "metadata": {
        "id": "GBvNPcTi_QZU"
      },
      "execution_count": null,
      "outputs": []
    },
    {
      "cell_type": "code",
      "source": [
        "!rm -rf Diamonds2"
      ],
      "metadata": {
        "id": "7jtdQ0ts_-f5"
      },
      "execution_count": 14,
      "outputs": []
    },
    {
      "cell_type": "code",
      "source": [
        "!rm natural-diamonds-prices-images.zip"
      ],
      "metadata": {
        "id": "1WJeejXSAFhz"
      },
      "execution_count": 16,
      "outputs": []
    },
    {
      "cell_type": "code",
      "source": [
        "import os\n",
        "import re\n",
        "\n",
        "import pandas as pd\n",
        "import numpy as np"
      ],
      "metadata": {
        "id": "zNYUqfchA-lP"
      },
      "execution_count": 40,
      "outputs": []
    },
    {
      "cell_type": "code",
      "source": [
        "DATA_DIRECTORY = \"Diamonds/Diamonds\""
      ],
      "metadata": {
        "id": "t6TpsnJABuNe"
      },
      "execution_count": 27,
      "outputs": []
    },
    {
      "cell_type": "code",
      "source": [
        "def load_and_combine_diamond_csv_files(data_directory: str) -> pd.DataFrame:\n",
        "  csv_list: list[str] = [f\"{data_directory}/{csv_file}\" for csv_file in os.listdir(data_directory) if csv_file.endswith(\".csv\")]\n",
        "  diamond_dataframes: list[pd.DataFrame] = [pd.read_csv(csv_file) for csv_file in csv_list]\n",
        "  df = pd.concat(diamond_dataframes)\n",
        "\n",
        "  return df"
      ],
      "metadata": {
        "id": "wJGVEGroAKpF"
      },
      "execution_count": 30,
      "outputs": []
    },
    {
      "cell_type": "code",
      "source": [
        "def simplify_and_fix_colnames(df: pd.DataFrame) -> pd.DataFrame:\n",
        "  simplified_column_names = [str.lower(col).replace(\" \", \"_\") for col in df.columns.to_list()]\n",
        "\n",
        "  df.columns = simplified_column_names\n",
        "\n",
        "  df = df.rename(columns={\"messurements\": \"measurements\"})\n",
        "  df = df.reset_index(drop=True)\n",
        "\n",
        "  return df"
      ],
      "metadata": {
        "id": "l5PVGT3ADDGU"
      },
      "execution_count": 34,
      "outputs": []
    },
    {
      "cell_type": "code",
      "source": [
        "def clean_and_seperate_measurement_entries(df: pd.DataFrame) -> pd.DataFrame:\n",
        "  column_names = [\"length\", \"width\", \"depth\"]\n",
        "\n",
        "  splitter_fn = lambda dimension: re.split(r\"[^\\d.]+\", dimension)\n",
        "\n",
        "  dimensions = list(map(splitter_fn, df.measurements.values))\n",
        "\n",
        "  cols_to_add = list()\n",
        "\n",
        "  for col_idx in range(3):\n",
        "    col_to_add = list()\n",
        "\n",
        "    for col in dimensions:\n",
        "      col_to_add.append(col[col_idx])\n",
        "\n",
        "    cols_to_add.append(np.asarray(col_to_add))\n",
        "\n",
        "  cols_to_add = np.asarray(cols_to_add)\n",
        "\n",
        "  df[column_names] = cols_to_add.T\n",
        "  df[column_names] = df[column_names].astype(np.float32)\n",
        "\n",
        "  return df"
      ],
      "metadata": {
        "id": "phpCzeiHDkl0"
      },
      "execution_count": 41,
      "outputs": []
    },
    {
      "cell_type": "code",
      "source": [
        "def clean_prices(price: np.ndarray) -> np.ndarray:\n",
        "  price = price.astype(str).tolist()\n",
        "\n",
        "  non_decimal = re.compile(r'[^\\d.]+')\n",
        "\n",
        "  price = [non_decimal.sub('', p) for p in price]\n",
        "\n",
        "  return np.asarray(price)"
      ],
      "metadata": {
        "id": "IJKIfilAFpSA"
      },
      "execution_count": 48,
      "outputs": []
    },
    {
      "cell_type": "code",
      "source": [
        "df = load_and_combine_diamond_csv_files(DATA_DIRECTORY)\n",
        "df = simplify_and_fix_colnames(df)\n",
        "df = clean_and_seperate_measurement_entries(df)\n",
        "df[\"price\"] = clean_prices(df[\"price\"].values) "
      ],
      "metadata": {
        "id": "vJyO-E1fAlOX"
      },
      "execution_count": 49,
      "outputs": []
    },
    {
      "cell_type": "code",
      "source": [
        "df.sample(frac=1.0).head(10)"
      ],
      "metadata": {
        "colab": {
          "base_uri": "https://localhost:8080/",
          "height": 363
        },
        "id": "-TkgAkn6Byu-",
        "outputId": "a256447d-9f03-48bd-f665-c3335dec1238"
      },
      "execution_count": 50,
      "outputs": [
        {
          "output_type": "execute_result",
          "data": {
            "text/plain": [
              "           id    shape  weight clarity colour cut polish symmetry  \\\n",
              "586   1574489  CUSHION    0.77    VVS2  FANCY  EX     EX       VG   \n",
              "1065  1322822  EMERALD    0.29     VS2      E  EX     EX       VG   \n",
              "587   1793042  CUSHION    0.55     VS2      E  EX     EX       EX   \n",
              "691   1781757  CUSHION    0.70     VS1  FANCY  EX     EX       GD   \n",
              "3026  1778230    ROUND    0.32    VVS1      K  EX     EX       EX   \n",
              "724   1799595  CUSHION    0.71     SI2      I  EX     EX       EX   \n",
              "2742  1586068    ROUND    0.23     VS1      F  EX     EX       EX   \n",
              "3293  1764900    ROUND    0.30     SI2      G  EX     EX       EX   \n",
              "2917  1586192    ROUND    0.23     VS1      E  EX     EX       EX   \n",
              "1304  1791042  EMERALD    0.30     VS1      D  VG     EX       VG   \n",
              "\n",
              "     fluorescence    measurements    price  \\\n",
              "586             N  5.06-5.05×3.40  1856.86   \n",
              "1065            N  4.80-3.05×2.05   864.91   \n",
              "587             N  5.19-4.34×2.92  1857.85   \n",
              "691             N  4.99-4.82×3.44  2026.14   \n",
              "3026            F  4.44-4.46×2.68   944.32   \n",
              "724             N  4.98-4.97×3.37  2088.89   \n",
              "2742            N  3.93-3.95×2.47   935.79   \n",
              "3293            F  4.36-4.39×2.60   925.14   \n",
              "2917            N  3.94-3.96×2.41   941.25   \n",
              "1304            F  4.86-3.11×2.01   951.98   \n",
              "\n",
              "                                               data_url  length  width  depth  \n",
              "586   https://capitalwholesalediamonds.com/product/0...    5.06   5.05   3.40  \n",
              "1065  https://capitalwholesalediamonds.com/product/0...    4.80   3.05   2.05  \n",
              "587   https://capitalwholesalediamonds.com/product/0...    5.19   4.34   2.92  \n",
              "691   https://capitalwholesalediamonds.com/product/0...    4.99   4.82   3.44  \n",
              "3026  https://capitalwholesalediamonds.com/product/0...    4.44   4.46   2.68  \n",
              "724   https://capitalwholesalediamonds.com/product/0...    4.98   4.97   3.37  \n",
              "2742  https://capitalwholesalediamonds.com/product/0...    3.93   3.95   2.47  \n",
              "3293  https://capitalwholesalediamonds.com/product/0...    4.36   4.39   2.60  \n",
              "2917  https://capitalwholesalediamonds.com/product/0...    3.94   3.96   2.41  \n",
              "1304  https://capitalwholesalediamonds.com/product/0...    4.86   3.11   2.01  "
            ],
            "text/html": [
              "\n",
              "  <div id=\"df-b32434fe-5167-4102-941b-abb7173a83ac\">\n",
              "    <div class=\"colab-df-container\">\n",
              "      <div>\n",
              "<style scoped>\n",
              "    .dataframe tbody tr th:only-of-type {\n",
              "        vertical-align: middle;\n",
              "    }\n",
              "\n",
              "    .dataframe tbody tr th {\n",
              "        vertical-align: top;\n",
              "    }\n",
              "\n",
              "    .dataframe thead th {\n",
              "        text-align: right;\n",
              "    }\n",
              "</style>\n",
              "<table border=\"1\" class=\"dataframe\">\n",
              "  <thead>\n",
              "    <tr style=\"text-align: right;\">\n",
              "      <th></th>\n",
              "      <th>id</th>\n",
              "      <th>shape</th>\n",
              "      <th>weight</th>\n",
              "      <th>clarity</th>\n",
              "      <th>colour</th>\n",
              "      <th>cut</th>\n",
              "      <th>polish</th>\n",
              "      <th>symmetry</th>\n",
              "      <th>fluorescence</th>\n",
              "      <th>measurements</th>\n",
              "      <th>price</th>\n",
              "      <th>data_url</th>\n",
              "      <th>length</th>\n",
              "      <th>width</th>\n",
              "      <th>depth</th>\n",
              "    </tr>\n",
              "  </thead>\n",
              "  <tbody>\n",
              "    <tr>\n",
              "      <th>586</th>\n",
              "      <td>1574489</td>\n",
              "      <td>CUSHION</td>\n",
              "      <td>0.77</td>\n",
              "      <td>VVS2</td>\n",
              "      <td>FANCY</td>\n",
              "      <td>EX</td>\n",
              "      <td>EX</td>\n",
              "      <td>VG</td>\n",
              "      <td>N</td>\n",
              "      <td>5.06-5.05×3.40</td>\n",
              "      <td>1856.86</td>\n",
              "      <td>https://capitalwholesalediamonds.com/product/0...</td>\n",
              "      <td>5.06</td>\n",
              "      <td>5.05</td>\n",
              "      <td>3.40</td>\n",
              "    </tr>\n",
              "    <tr>\n",
              "      <th>1065</th>\n",
              "      <td>1322822</td>\n",
              "      <td>EMERALD</td>\n",
              "      <td>0.29</td>\n",
              "      <td>VS2</td>\n",
              "      <td>E</td>\n",
              "      <td>EX</td>\n",
              "      <td>EX</td>\n",
              "      <td>VG</td>\n",
              "      <td>N</td>\n",
              "      <td>4.80-3.05×2.05</td>\n",
              "      <td>864.91</td>\n",
              "      <td>https://capitalwholesalediamonds.com/product/0...</td>\n",
              "      <td>4.80</td>\n",
              "      <td>3.05</td>\n",
              "      <td>2.05</td>\n",
              "    </tr>\n",
              "    <tr>\n",
              "      <th>587</th>\n",
              "      <td>1793042</td>\n",
              "      <td>CUSHION</td>\n",
              "      <td>0.55</td>\n",
              "      <td>VS2</td>\n",
              "      <td>E</td>\n",
              "      <td>EX</td>\n",
              "      <td>EX</td>\n",
              "      <td>EX</td>\n",
              "      <td>N</td>\n",
              "      <td>5.19-4.34×2.92</td>\n",
              "      <td>1857.85</td>\n",
              "      <td>https://capitalwholesalediamonds.com/product/0...</td>\n",
              "      <td>5.19</td>\n",
              "      <td>4.34</td>\n",
              "      <td>2.92</td>\n",
              "    </tr>\n",
              "    <tr>\n",
              "      <th>691</th>\n",
              "      <td>1781757</td>\n",
              "      <td>CUSHION</td>\n",
              "      <td>0.70</td>\n",
              "      <td>VS1</td>\n",
              "      <td>FANCY</td>\n",
              "      <td>EX</td>\n",
              "      <td>EX</td>\n",
              "      <td>GD</td>\n",
              "      <td>N</td>\n",
              "      <td>4.99-4.82×3.44</td>\n",
              "      <td>2026.14</td>\n",
              "      <td>https://capitalwholesalediamonds.com/product/0...</td>\n",
              "      <td>4.99</td>\n",
              "      <td>4.82</td>\n",
              "      <td>3.44</td>\n",
              "    </tr>\n",
              "    <tr>\n",
              "      <th>3026</th>\n",
              "      <td>1778230</td>\n",
              "      <td>ROUND</td>\n",
              "      <td>0.32</td>\n",
              "      <td>VVS1</td>\n",
              "      <td>K</td>\n",
              "      <td>EX</td>\n",
              "      <td>EX</td>\n",
              "      <td>EX</td>\n",
              "      <td>F</td>\n",
              "      <td>4.44-4.46×2.68</td>\n",
              "      <td>944.32</td>\n",
              "      <td>https://capitalwholesalediamonds.com/product/0...</td>\n",
              "      <td>4.44</td>\n",
              "      <td>4.46</td>\n",
              "      <td>2.68</td>\n",
              "    </tr>\n",
              "    <tr>\n",
              "      <th>724</th>\n",
              "      <td>1799595</td>\n",
              "      <td>CUSHION</td>\n",
              "      <td>0.71</td>\n",
              "      <td>SI2</td>\n",
              "      <td>I</td>\n",
              "      <td>EX</td>\n",
              "      <td>EX</td>\n",
              "      <td>EX</td>\n",
              "      <td>N</td>\n",
              "      <td>4.98-4.97×3.37</td>\n",
              "      <td>2088.89</td>\n",
              "      <td>https://capitalwholesalediamonds.com/product/0...</td>\n",
              "      <td>4.98</td>\n",
              "      <td>4.97</td>\n",
              "      <td>3.37</td>\n",
              "    </tr>\n",
              "    <tr>\n",
              "      <th>2742</th>\n",
              "      <td>1586068</td>\n",
              "      <td>ROUND</td>\n",
              "      <td>0.23</td>\n",
              "      <td>VS1</td>\n",
              "      <td>F</td>\n",
              "      <td>EX</td>\n",
              "      <td>EX</td>\n",
              "      <td>EX</td>\n",
              "      <td>N</td>\n",
              "      <td>3.93-3.95×2.47</td>\n",
              "      <td>935.79</td>\n",
              "      <td>https://capitalwholesalediamonds.com/product/0...</td>\n",
              "      <td>3.93</td>\n",
              "      <td>3.95</td>\n",
              "      <td>2.47</td>\n",
              "    </tr>\n",
              "    <tr>\n",
              "      <th>3293</th>\n",
              "      <td>1764900</td>\n",
              "      <td>ROUND</td>\n",
              "      <td>0.30</td>\n",
              "      <td>SI2</td>\n",
              "      <td>G</td>\n",
              "      <td>EX</td>\n",
              "      <td>EX</td>\n",
              "      <td>EX</td>\n",
              "      <td>F</td>\n",
              "      <td>4.36-4.39×2.60</td>\n",
              "      <td>925.14</td>\n",
              "      <td>https://capitalwholesalediamonds.com/product/0...</td>\n",
              "      <td>4.36</td>\n",
              "      <td>4.39</td>\n",
              "      <td>2.60</td>\n",
              "    </tr>\n",
              "    <tr>\n",
              "      <th>2917</th>\n",
              "      <td>1586192</td>\n",
              "      <td>ROUND</td>\n",
              "      <td>0.23</td>\n",
              "      <td>VS1</td>\n",
              "      <td>E</td>\n",
              "      <td>EX</td>\n",
              "      <td>EX</td>\n",
              "      <td>EX</td>\n",
              "      <td>N</td>\n",
              "      <td>3.94-3.96×2.41</td>\n",
              "      <td>941.25</td>\n",
              "      <td>https://capitalwholesalediamonds.com/product/0...</td>\n",
              "      <td>3.94</td>\n",
              "      <td>3.96</td>\n",
              "      <td>2.41</td>\n",
              "    </tr>\n",
              "    <tr>\n",
              "      <th>1304</th>\n",
              "      <td>1791042</td>\n",
              "      <td>EMERALD</td>\n",
              "      <td>0.30</td>\n",
              "      <td>VS1</td>\n",
              "      <td>D</td>\n",
              "      <td>VG</td>\n",
              "      <td>EX</td>\n",
              "      <td>VG</td>\n",
              "      <td>F</td>\n",
              "      <td>4.86-3.11×2.01</td>\n",
              "      <td>951.98</td>\n",
              "      <td>https://capitalwholesalediamonds.com/product/0...</td>\n",
              "      <td>4.86</td>\n",
              "      <td>3.11</td>\n",
              "      <td>2.01</td>\n",
              "    </tr>\n",
              "  </tbody>\n",
              "</table>\n",
              "</div>\n",
              "      <button class=\"colab-df-convert\" onclick=\"convertToInteractive('df-b32434fe-5167-4102-941b-abb7173a83ac')\"\n",
              "              title=\"Convert this dataframe to an interactive table.\"\n",
              "              style=\"display:none;\">\n",
              "        \n",
              "  <svg xmlns=\"http://www.w3.org/2000/svg\" height=\"24px\"viewBox=\"0 0 24 24\"\n",
              "       width=\"24px\">\n",
              "    <path d=\"M0 0h24v24H0V0z\" fill=\"none\"/>\n",
              "    <path d=\"M18.56 5.44l.94 2.06.94-2.06 2.06-.94-2.06-.94-.94-2.06-.94 2.06-2.06.94zm-11 1L8.5 8.5l.94-2.06 2.06-.94-2.06-.94L8.5 2.5l-.94 2.06-2.06.94zm10 10l.94 2.06.94-2.06 2.06-.94-2.06-.94-.94-2.06-.94 2.06-2.06.94z\"/><path d=\"M17.41 7.96l-1.37-1.37c-.4-.4-.92-.59-1.43-.59-.52 0-1.04.2-1.43.59L10.3 9.45l-7.72 7.72c-.78.78-.78 2.05 0 2.83L4 21.41c.39.39.9.59 1.41.59.51 0 1.02-.2 1.41-.59l7.78-7.78 2.81-2.81c.8-.78.8-2.07 0-2.86zM5.41 20L4 18.59l7.72-7.72 1.47 1.35L5.41 20z\"/>\n",
              "  </svg>\n",
              "      </button>\n",
              "      \n",
              "  <style>\n",
              "    .colab-df-container {\n",
              "      display:flex;\n",
              "      flex-wrap:wrap;\n",
              "      gap: 12px;\n",
              "    }\n",
              "\n",
              "    .colab-df-convert {\n",
              "      background-color: #E8F0FE;\n",
              "      border: none;\n",
              "      border-radius: 50%;\n",
              "      cursor: pointer;\n",
              "      display: none;\n",
              "      fill: #1967D2;\n",
              "      height: 32px;\n",
              "      padding: 0 0 0 0;\n",
              "      width: 32px;\n",
              "    }\n",
              "\n",
              "    .colab-df-convert:hover {\n",
              "      background-color: #E2EBFA;\n",
              "      box-shadow: 0px 1px 2px rgba(60, 64, 67, 0.3), 0px 1px 3px 1px rgba(60, 64, 67, 0.15);\n",
              "      fill: #174EA6;\n",
              "    }\n",
              "\n",
              "    [theme=dark] .colab-df-convert {\n",
              "      background-color: #3B4455;\n",
              "      fill: #D2E3FC;\n",
              "    }\n",
              "\n",
              "    [theme=dark] .colab-df-convert:hover {\n",
              "      background-color: #434B5C;\n",
              "      box-shadow: 0px 1px 3px 1px rgba(0, 0, 0, 0.15);\n",
              "      filter: drop-shadow(0px 1px 2px rgba(0, 0, 0, 0.3));\n",
              "      fill: #FFFFFF;\n",
              "    }\n",
              "  </style>\n",
              "\n",
              "      <script>\n",
              "        const buttonEl =\n",
              "          document.querySelector('#df-b32434fe-5167-4102-941b-abb7173a83ac button.colab-df-convert');\n",
              "        buttonEl.style.display =\n",
              "          google.colab.kernel.accessAllowed ? 'block' : 'none';\n",
              "\n",
              "        async function convertToInteractive(key) {\n",
              "          const element = document.querySelector('#df-b32434fe-5167-4102-941b-abb7173a83ac');\n",
              "          const dataTable =\n",
              "            await google.colab.kernel.invokeFunction('convertToInteractive',\n",
              "                                                     [key], {});\n",
              "          if (!dataTable) return;\n",
              "\n",
              "          const docLinkHtml = 'Like what you see? Visit the ' +\n",
              "            '<a target=\"_blank\" href=https://colab.research.google.com/notebooks/data_table.ipynb>data table notebook</a>'\n",
              "            + ' to learn more about interactive tables.';\n",
              "          element.innerHTML = '';\n",
              "          dataTable['output_type'] = 'display_data';\n",
              "          await google.colab.output.renderOutput(dataTable, element);\n",
              "          const docLink = document.createElement('div');\n",
              "          docLink.innerHTML = docLinkHtml;\n",
              "          element.appendChild(docLink);\n",
              "        }\n",
              "      </script>\n",
              "    </div>\n",
              "  </div>\n",
              "  "
            ]
          },
          "metadata": {},
          "execution_count": 50
        }
      ]
    },
    {
      "cell_type": "code",
      "source": [
        ""
      ],
      "metadata": {
        "id": "HlAMf4lZCy6d"
      },
      "execution_count": null,
      "outputs": []
    }
  ]
}