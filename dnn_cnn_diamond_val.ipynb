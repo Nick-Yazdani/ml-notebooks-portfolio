{
  "nbformat": 4,
  "nbformat_minor": 0,
  "metadata": {
    "colab": {
      "name": "dnn_cnn_diamond_val.ipynb",
      "provenance": [],
      "collapsed_sections": [],
      "authorship_tag": "ABX9TyMff2fS9r+er/u2LjOMDEX7",
      "include_colab_link": true
    },
    "kernelspec": {
      "name": "python3",
      "display_name": "Python 3"
    },
    "language_info": {
      "name": "python"
    }
  },
  "cells": [
    {
      "cell_type": "markdown",
      "metadata": {
        "id": "view-in-github",
        "colab_type": "text"
      },
      "source": [
        "<a href=\"https://colab.research.google.com/github/Nick-Yazdani/ml-notebooks-portfolio/blob/main/dnn_cnn_diamond_val.ipynb\" target=\"_parent\"><img src=\"https://colab.research.google.com/assets/colab-badge.svg\" alt=\"Open In Colab\"/></a>"
      ]
    },
    {
      "cell_type": "code",
      "execution_count": 1,
      "metadata": {
        "id": "MtRJeIve9_iQ"
      },
      "outputs": [],
      "source": [
        "from google.colab import files"
      ]
    },
    {
      "cell_type": "code",
      "source": [
        "uploaded = files.upload()"
      ],
      "metadata": {
        "colab": {
          "resources": {
            "http://localhost:8080/nbextensions/google.colab/files.js": {
              "data": "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",
              "ok": true,
              "headers": [
                [
                  "content-type",
                  "application/javascript"
                ]
              ],
              "status": 200,
              "status_text": ""
            }
          },
          "base_uri": "https://localhost:8080/",
          "height": 73
        },
        "id": "rGItw0s9-ekv",
        "outputId": "79b490bc-46ed-42ba-b4ef-a8b1d8b40837"
      },
      "execution_count": 2,
      "outputs": [
        {
          "output_type": "display_data",
          "data": {
            "text/plain": [
              "<IPython.core.display.HTML object>"
            ],
            "text/html": [
              "\n",
              "     <input type=\"file\" id=\"files-996a42dc-3e68-4ea7-96a3-1a41b8fab649\" name=\"files[]\" multiple disabled\n",
              "        style=\"border:none\" />\n",
              "     <output id=\"result-996a42dc-3e68-4ea7-96a3-1a41b8fab649\">\n",
              "      Upload widget is only available when the cell has been executed in the\n",
              "      current browser session. Please rerun this cell to enable.\n",
              "      </output>\n",
              "      <script src=\"/nbextensions/google.colab/files.js\"></script> "
            ]
          },
          "metadata": {}
        },
        {
          "output_type": "stream",
          "name": "stdout",
          "text": [
            "Saving kaggle.json to kaggle.json\n"
          ]
        }
      ]
    },
    {
      "cell_type": "code",
      "source": [
        "for fn in uploaded.keys():\n",
        "  print('User uploaded file \"{name}\" with length {length} bytes'.format(name=fn, length=len(uploaded[fn])))"
      ],
      "metadata": {
        "colab": {
          "base_uri": "https://localhost:8080/"
        },
        "id": "snyQnt19-rwq",
        "outputId": "d26ce470-7b82-4768-f684-c9931eb8eb4a"
      },
      "execution_count": 3,
      "outputs": [
        {
          "output_type": "stream",
          "name": "stdout",
          "text": [
            "User uploaded file \"kaggle.json\" with length 70 bytes\n"
          ]
        }
      ]
    },
    {
      "cell_type": "code",
      "source": [
        "!mkdir -p ~/.kaggle/ && mv kaggle.json ~/.kaggle/ && chmod 600 ~/.kaggle/kaggle.json"
      ],
      "metadata": {
        "id": "YtxZvAnw-9Zd"
      },
      "execution_count": 4,
      "outputs": []
    },
    {
      "cell_type": "code",
      "source": [
        "!kaggle datasets download \"harshitlakhani/natural-diamonds-prices-images\""
      ],
      "metadata": {
        "colab": {
          "base_uri": "https://localhost:8080/"
        },
        "id": "a8jNmVaY-_v6",
        "outputId": "e8e53ce4-391f-49c8-e78e-0a20c2113bdd"
      },
      "execution_count": 5,
      "outputs": [
        {
          "output_type": "stream",
          "name": "stdout",
          "text": [
            "Downloading natural-diamonds-prices-images.zip to /content\n",
            " 93% 143M/154M [00:01<00:00, 139MB/s]\n",
            "100% 154M/154M [00:01<00:00, 140MB/s]\n"
          ]
        }
      ]
    },
    {
      "cell_type": "code",
      "source": [
        "!unzip -qq natural-diamonds-prices-images.zip"
      ],
      "metadata": {
        "id": "GBvNPcTi_QZU"
      },
      "execution_count": 6,
      "outputs": []
    },
    {
      "cell_type": "code",
      "source": [
        "!rm -rf Diamonds2"
      ],
      "metadata": {
        "id": "7jtdQ0ts_-f5"
      },
      "execution_count": 7,
      "outputs": []
    },
    {
      "cell_type": "code",
      "source": [
        "!rm natural-diamonds-prices-images.zip"
      ],
      "metadata": {
        "id": "1WJeejXSAFhz"
      },
      "execution_count": 8,
      "outputs": []
    },
    {
      "cell_type": "code",
      "source": [
        "import os\n",
        "import re\n",
        "\n",
        "import pandas as pd\n",
        "import numpy as np\n",
        "import tensorflow as tf"
      ],
      "metadata": {
        "id": "zNYUqfchA-lP"
      },
      "execution_count": 70,
      "outputs": []
    },
    {
      "cell_type": "code",
      "source": [
        "DATA_DIRECTORY = \"Diamonds/Diamonds\"\n",
        "IMAGE_DIRECTORY = f\"{DATA_DIRECTORY}/images\"\n",
        "FEATURES = [\"shape\", \"weight\", \"clarity\", \"colour\", \"cut\", \"polish\", \"symmetry\", \"fluorescence\", \"length\", \"width\", \"depth\"]\n",
        "TARGET = [\"price\"]\n",
        "IMAGE_SHAPE = (64, 64, 3)"
      ],
      "metadata": {
        "id": "t6TpsnJABuNe"
      },
      "execution_count": 71,
      "outputs": []
    },
    {
      "cell_type": "code",
      "source": [
        "def load_and_combine_diamond_csv_files(data_directory: str) -> pd.DataFrame:\n",
        "  csv_list: list[str] = [f\"{data_directory}/{csv_file}\" for csv_file in os.listdir(data_directory) if csv_file.endswith(\".csv\")]\n",
        "  diamond_dataframes: list[pd.DataFrame] = [pd.read_csv(csv_file) for csv_file in csv_list]\n",
        "  df = pd.concat(diamond_dataframes)\n",
        "\n",
        "  return df"
      ],
      "metadata": {
        "id": "wJGVEGroAKpF"
      },
      "execution_count": 72,
      "outputs": []
    },
    {
      "cell_type": "code",
      "source": [
        "def simplify_and_fix_colnames(df: pd.DataFrame) -> pd.DataFrame:\n",
        "  simplified_column_names = [str.lower(col).replace(\" \", \"_\") for col in df.columns.to_list()]\n",
        "\n",
        "  df.columns = simplified_column_names\n",
        "\n",
        "  df = df.rename(columns={\"messurements\": \"measurements\"})\n",
        "  df = df.reset_index(drop=True)\n",
        "\n",
        "  return df"
      ],
      "metadata": {
        "id": "l5PVGT3ADDGU"
      },
      "execution_count": 73,
      "outputs": []
    },
    {
      "cell_type": "code",
      "source": [
        "def clean_and_seperate_measurement_entries(df: pd.DataFrame) -> pd.DataFrame:\n",
        "  column_names = [\"length\", \"width\", \"depth\"]\n",
        "\n",
        "  splitter_fn = lambda dimension: re.split(r\"[^\\d.]+\", dimension)\n",
        "\n",
        "  dimensions = list(map(splitter_fn, df.measurements.values))\n",
        "\n",
        "  cols_to_add = list()\n",
        "\n",
        "  for col_idx in range(3):\n",
        "    col_to_add = list()\n",
        "\n",
        "    for col in dimensions:\n",
        "      col_to_add.append(col[col_idx])\n",
        "\n",
        "    cols_to_add.append(np.asarray(col_to_add))\n",
        "\n",
        "  cols_to_add = np.asarray(cols_to_add)\n",
        "\n",
        "  df[column_names] = cols_to_add.T\n",
        "  df[column_names] = df[column_names].astype(np.float32)\n",
        "\n",
        "  return df"
      ],
      "metadata": {
        "id": "phpCzeiHDkl0"
      },
      "execution_count": 74,
      "outputs": []
    },
    {
      "cell_type": "code",
      "source": [
        "def clean_prices(price: np.ndarray) -> np.ndarray:\n",
        "  price = price.astype(str).tolist()\n",
        "\n",
        "  non_decimal = re.compile(r\"[^\\d.]+\")\n",
        "\n",
        "  price = [non_decimal.sub(\"\", p) for p in price]\n",
        "\n",
        "  return np.asarray(price)"
      ],
      "metadata": {
        "id": "IJKIfilAFpSA"
      },
      "execution_count": 75,
      "outputs": []
    },
    {
      "cell_type": "code",
      "source": [
        "df = load_and_combine_diamond_csv_files(DATA_DIRECTORY)\n",
        "df = simplify_and_fix_colnames(df)\n",
        "df = clean_and_seperate_measurement_entries(df)\n",
        "df[\"price\"] = clean_prices(df[\"price\"].values) "
      ],
      "metadata": {
        "id": "vJyO-E1fAlOX"
      },
      "execution_count": 76,
      "outputs": []
    },
    {
      "cell_type": "code",
      "source": [
        "def map_images_with_df_ids(df: pd.DataFrame, image_directory: str) -> pd.DataFrame:\n",
        "  df[\"file_name\"] = \"\"\n",
        "  df[\"id\"] = df.apply(lambda x: str(x[\"id\"]).strip(), axis=1)\n",
        "\n",
        "  for dir in os.listdir(IMAGE_DIRECTORY):\n",
        "    for img in os.listdir(os.path.join(IMAGE_DIRECTORY, dir)):\n",
        "      for idx, row_id in enumerate(df[\"id\"].values):\n",
        "        if img.split(\".\")[0] == row_id:\n",
        "          df.loc[idx, \"file_name\"] = os.path.join(IMAGE_DIRECTORY, dir, img)\n",
        "  \n",
        "  return df  "
      ],
      "metadata": {
        "id": "gxJV5CBTL7aw"
      },
      "execution_count": 77,
      "outputs": []
    },
    {
      "cell_type": "code",
      "source": [
        "df = map_images_with_df_ids(df, IMAGE_DIRECTORY)"
      ],
      "metadata": {
        "id": "8uYXwQHLMB9v"
      },
      "execution_count": 78,
      "outputs": []
    },
    {
      "cell_type": "code",
      "source": [
        "df = df.sample(frac=1.0, random_state=42)\n",
        "df = df.reset_index(drop=True)\n",
        "df = df[FEATURES + TARGET + [\"file_name\"]]\n",
        "df = df.dropna()\n",
        "df = df.reset_index(drop=True)"
      ],
      "metadata": {
        "id": "G_Ffmo_rRY2n"
      },
      "execution_count": 79,
      "outputs": []
    },
    {
      "cell_type": "code",
      "source": [
        "def train_test_val(df: pd.DataFrame):\n",
        "  train = df.sample(frac=0.7, random_state=42)\n",
        "  val = df.drop(train.index)\n",
        "  test = val.sample(frac=0.5, random_state=42)\n",
        "\n",
        "  val = val.drop(test.index)\n",
        "\n",
        "  train = train.reset_index(drop=True)\n",
        "  val = val.reset_index(drop=True)\n",
        "  test = test.reset_index(drop=True)\n",
        "\n",
        "  return (train, test, val)"
      ],
      "metadata": {
        "id": "MhdjdI4MOxdU"
      },
      "execution_count": 80,
      "outputs": []
    },
    {
      "cell_type": "code",
      "source": [
        "def read_images(df: pd.DataFrame):\n",
        "  images = []\n",
        "  indices_to_drop: list[int] = []\n",
        "\n",
        "  for idx, file_name in enumerate(df.file_name.values.astype(str)):\n",
        "    if not os.path.exists(file_name):\n",
        "      indices_to_drop.append(idx)\n",
        "      continue\n",
        "    image = tf.io.read_file(file_name)\n",
        "\n",
        "    if file_name.endswith(\"jpg\"):\n",
        "      image = tf.io.decode_jpeg(image, channels=3)\n",
        "    elif file_name.endswith(\"png\"):\n",
        "      image = tf.io.decode_png(image, channels=3)\n",
        "\n",
        "    image = tf.cast(image, dtype=tf.float32)\n",
        "    image /= 255.0\n",
        "    image = tf.image.resize(image, (IMAGE_SHAPE[:-1]))\n",
        "\n",
        "    images.append(image)\n",
        "\n",
        "  images = tf.convert_to_tensor(images)\n",
        "\n",
        "  if len(indices_to_drop) > 0:\n",
        "    df = df.drop(indices_to_drop)\n",
        "\n",
        "  df = df.drop(\"file_name\", axis=1)\n",
        "\n",
        "  return images, df"
      ],
      "metadata": {
        "id": "oLOaMOS-JJvE"
      },
      "execution_count": 81,
      "outputs": []
    },
    {
      "cell_type": "code",
      "source": [
        "ttv_splits = train_test_val(df)"
      ],
      "metadata": {
        "id": "0rniiLUANb6i"
      },
      "execution_count": 82,
      "outputs": []
    },
    {
      "cell_type": "code",
      "source": [
        "train, test, val = map(read_images, ttv_splits)"
      ],
      "metadata": {
        "id": "9QiyG7_ON7Ny"
      },
      "execution_count": 83,
      "outputs": []
    },
    {
      "cell_type": "code",
      "source": [
        "def preprocessing(train_df: pd.DataFrame):\n",
        "  train_features = train_df.drop(TARGET, axis=1).copy()\n",
        "  train_target = train_df[TARGET]\n",
        "\n",
        "  inputs = dict()\n",
        "\n",
        "  for name, column in train_features.items():\n",
        "    dtype = column.dtype\n",
        "    if dtype == object:\n",
        "      dtype = tf.string\n",
        "    else:\n",
        "      dtype = tf.float32\n",
        "\n",
        "    inputs[name] = tf.keras.Input(shape=(1,), name=f\"{name}\", dtype=dtype)\n",
        "  \n",
        "  numeric_inputs = {name: input for name, input in inputs.items() if input.dtype == tf.float32}\n",
        "\n",
        "  "
      ],
      "metadata": {
        "colab": {
          "base_uri": "https://localhost:8080/",
          "height": 424
        },
        "id": "MvXcVyl0Oc_M",
        "outputId": "4c49a061-6a4e-4c6d-fd5b-8633dd66dae3"
      },
      "execution_count": 84,
      "outputs": [
        {
          "output_type": "execute_result",
          "data": {
            "text/plain": [
              "        shape  weight clarity colour cut polish symmetry fluorescence  length  \\\n",
              "0       ROUND    0.19      IF      D  EX     EX       EX            N    3.67   \n",
              "1     CUSHION    0.71     SI1      H  EX     EX       VG            N    5.35   \n",
              "2       ROUND    0.23      IF      G  EX     EX       EX            F    3.95   \n",
              "3       HEART    0.40     VS1      J  GD     EX       VG            M    4.32   \n",
              "4     CUSHION    0.81     VS2      J  EX     EX       VG            N    5.42   \n",
              "...       ...     ...     ...    ...  ..    ...      ...          ...     ...   \n",
              "2409    ROUND    0.23     VS1      E  EX     EX       EX            N    3.91   \n",
              "2410  CUSHION    0.50     SI1  FANCY  GD     EX       VG            F    4.20   \n",
              "2411    ROUND    0.23     VS1      E  EX     EX       EX            N    3.90   \n",
              "2412  CUSHION    1.03     VS2    U-V  EX     EX       VG            N    5.88   \n",
              "2413    ROUND    0.18      IF      E  EX     EX       EX            N    3.69   \n",
              "\n",
              "      width  depth    price  \n",
              "0      3.69   2.30   893.18  \n",
              "1      4.89   3.30  2021.49  \n",
              "2      3.98   2.45   879.44  \n",
              "3      5.00   3.06  1001.16  \n",
              "4      5.09   3.45  2149.77  \n",
              "...     ...    ...      ...  \n",
              "2409   3.93   2.47   904.71  \n",
              "2410   4.14   3.11  1018.38  \n",
              "2411   3.93   2.46   909.74  \n",
              "2412   5.54   3.72  2515.78  \n",
              "2413   3.71   2.26   861.51  \n",
              "\n",
              "[2413 rows x 12 columns]"
            ],
            "text/html": [
              "\n",
              "  <div id=\"df-d3bcb0e1-8e88-454a-9dd1-761431798bf3\">\n",
              "    <div class=\"colab-df-container\">\n",
              "      <div>\n",
              "<style scoped>\n",
              "    .dataframe tbody tr th:only-of-type {\n",
              "        vertical-align: middle;\n",
              "    }\n",
              "\n",
              "    .dataframe tbody tr th {\n",
              "        vertical-align: top;\n",
              "    }\n",
              "\n",
              "    .dataframe thead th {\n",
              "        text-align: right;\n",
              "    }\n",
              "</style>\n",
              "<table border=\"1\" class=\"dataframe\">\n",
              "  <thead>\n",
              "    <tr style=\"text-align: right;\">\n",
              "      <th></th>\n",
              "      <th>shape</th>\n",
              "      <th>weight</th>\n",
              "      <th>clarity</th>\n",
              "      <th>colour</th>\n",
              "      <th>cut</th>\n",
              "      <th>polish</th>\n",
              "      <th>symmetry</th>\n",
              "      <th>fluorescence</th>\n",
              "      <th>length</th>\n",
              "      <th>width</th>\n",
              "      <th>depth</th>\n",
              "      <th>price</th>\n",
              "    </tr>\n",
              "  </thead>\n",
              "  <tbody>\n",
              "    <tr>\n",
              "      <th>0</th>\n",
              "      <td>ROUND</td>\n",
              "      <td>0.19</td>\n",
              "      <td>IF</td>\n",
              "      <td>D</td>\n",
              "      <td>EX</td>\n",
              "      <td>EX</td>\n",
              "      <td>EX</td>\n",
              "      <td>N</td>\n",
              "      <td>3.67</td>\n",
              "      <td>3.69</td>\n",
              "      <td>2.30</td>\n",
              "      <td>893.18</td>\n",
              "    </tr>\n",
              "    <tr>\n",
              "      <th>1</th>\n",
              "      <td>CUSHION</td>\n",
              "      <td>0.71</td>\n",
              "      <td>SI1</td>\n",
              "      <td>H</td>\n",
              "      <td>EX</td>\n",
              "      <td>EX</td>\n",
              "      <td>VG</td>\n",
              "      <td>N</td>\n",
              "      <td>5.35</td>\n",
              "      <td>4.89</td>\n",
              "      <td>3.30</td>\n",
              "      <td>2021.49</td>\n",
              "    </tr>\n",
              "    <tr>\n",
              "      <th>2</th>\n",
              "      <td>ROUND</td>\n",
              "      <td>0.23</td>\n",
              "      <td>IF</td>\n",
              "      <td>G</td>\n",
              "      <td>EX</td>\n",
              "      <td>EX</td>\n",
              "      <td>EX</td>\n",
              "      <td>F</td>\n",
              "      <td>3.95</td>\n",
              "      <td>3.98</td>\n",
              "      <td>2.45</td>\n",
              "      <td>879.44</td>\n",
              "    </tr>\n",
              "    <tr>\n",
              "      <th>3</th>\n",
              "      <td>HEART</td>\n",
              "      <td>0.40</td>\n",
              "      <td>VS1</td>\n",
              "      <td>J</td>\n",
              "      <td>GD</td>\n",
              "      <td>EX</td>\n",
              "      <td>VG</td>\n",
              "      <td>M</td>\n",
              "      <td>4.32</td>\n",
              "      <td>5.00</td>\n",
              "      <td>3.06</td>\n",
              "      <td>1001.16</td>\n",
              "    </tr>\n",
              "    <tr>\n",
              "      <th>4</th>\n",
              "      <td>CUSHION</td>\n",
              "      <td>0.81</td>\n",
              "      <td>VS2</td>\n",
              "      <td>J</td>\n",
              "      <td>EX</td>\n",
              "      <td>EX</td>\n",
              "      <td>VG</td>\n",
              "      <td>N</td>\n",
              "      <td>5.42</td>\n",
              "      <td>5.09</td>\n",
              "      <td>3.45</td>\n",
              "      <td>2149.77</td>\n",
              "    </tr>\n",
              "    <tr>\n",
              "      <th>...</th>\n",
              "      <td>...</td>\n",
              "      <td>...</td>\n",
              "      <td>...</td>\n",
              "      <td>...</td>\n",
              "      <td>...</td>\n",
              "      <td>...</td>\n",
              "      <td>...</td>\n",
              "      <td>...</td>\n",
              "      <td>...</td>\n",
              "      <td>...</td>\n",
              "      <td>...</td>\n",
              "      <td>...</td>\n",
              "    </tr>\n",
              "    <tr>\n",
              "      <th>2409</th>\n",
              "      <td>ROUND</td>\n",
              "      <td>0.23</td>\n",
              "      <td>VS1</td>\n",
              "      <td>E</td>\n",
              "      <td>EX</td>\n",
              "      <td>EX</td>\n",
              "      <td>EX</td>\n",
              "      <td>N</td>\n",
              "      <td>3.91</td>\n",
              "      <td>3.93</td>\n",
              "      <td>2.47</td>\n",
              "      <td>904.71</td>\n",
              "    </tr>\n",
              "    <tr>\n",
              "      <th>2410</th>\n",
              "      <td>CUSHION</td>\n",
              "      <td>0.50</td>\n",
              "      <td>SI1</td>\n",
              "      <td>FANCY</td>\n",
              "      <td>GD</td>\n",
              "      <td>EX</td>\n",
              "      <td>VG</td>\n",
              "      <td>F</td>\n",
              "      <td>4.20</td>\n",
              "      <td>4.14</td>\n",
              "      <td>3.11</td>\n",
              "      <td>1018.38</td>\n",
              "    </tr>\n",
              "    <tr>\n",
              "      <th>2411</th>\n",
              "      <td>ROUND</td>\n",
              "      <td>0.23</td>\n",
              "      <td>VS1</td>\n",
              "      <td>E</td>\n",
              "      <td>EX</td>\n",
              "      <td>EX</td>\n",
              "      <td>EX</td>\n",
              "      <td>N</td>\n",
              "      <td>3.90</td>\n",
              "      <td>3.93</td>\n",
              "      <td>2.46</td>\n",
              "      <td>909.74</td>\n",
              "    </tr>\n",
              "    <tr>\n",
              "      <th>2412</th>\n",
              "      <td>CUSHION</td>\n",
              "      <td>1.03</td>\n",
              "      <td>VS2</td>\n",
              "      <td>U-V</td>\n",
              "      <td>EX</td>\n",
              "      <td>EX</td>\n",
              "      <td>VG</td>\n",
              "      <td>N</td>\n",
              "      <td>5.88</td>\n",
              "      <td>5.54</td>\n",
              "      <td>3.72</td>\n",
              "      <td>2515.78</td>\n",
              "    </tr>\n",
              "    <tr>\n",
              "      <th>2413</th>\n",
              "      <td>ROUND</td>\n",
              "      <td>0.18</td>\n",
              "      <td>IF</td>\n",
              "      <td>E</td>\n",
              "      <td>EX</td>\n",
              "      <td>EX</td>\n",
              "      <td>EX</td>\n",
              "      <td>N</td>\n",
              "      <td>3.69</td>\n",
              "      <td>3.71</td>\n",
              "      <td>2.26</td>\n",
              "      <td>861.51</td>\n",
              "    </tr>\n",
              "  </tbody>\n",
              "</table>\n",
              "<p>2413 rows × 12 columns</p>\n",
              "</div>\n",
              "      <button class=\"colab-df-convert\" onclick=\"convertToInteractive('df-d3bcb0e1-8e88-454a-9dd1-761431798bf3')\"\n",
              "              title=\"Convert this dataframe to an interactive table.\"\n",
              "              style=\"display:none;\">\n",
              "        \n",
              "  <svg xmlns=\"http://www.w3.org/2000/svg\" height=\"24px\"viewBox=\"0 0 24 24\"\n",
              "       width=\"24px\">\n",
              "    <path d=\"M0 0h24v24H0V0z\" fill=\"none\"/>\n",
              "    <path d=\"M18.56 5.44l.94 2.06.94-2.06 2.06-.94-2.06-.94-.94-2.06-.94 2.06-2.06.94zm-11 1L8.5 8.5l.94-2.06 2.06-.94-2.06-.94L8.5 2.5l-.94 2.06-2.06.94zm10 10l.94 2.06.94-2.06 2.06-.94-2.06-.94-.94-2.06-.94 2.06-2.06.94z\"/><path d=\"M17.41 7.96l-1.37-1.37c-.4-.4-.92-.59-1.43-.59-.52 0-1.04.2-1.43.59L10.3 9.45l-7.72 7.72c-.78.78-.78 2.05 0 2.83L4 21.41c.39.39.9.59 1.41.59.51 0 1.02-.2 1.41-.59l7.78-7.78 2.81-2.81c.8-.78.8-2.07 0-2.86zM5.41 20L4 18.59l7.72-7.72 1.47 1.35L5.41 20z\"/>\n",
              "  </svg>\n",
              "      </button>\n",
              "      \n",
              "  <style>\n",
              "    .colab-df-container {\n",
              "      display:flex;\n",
              "      flex-wrap:wrap;\n",
              "      gap: 12px;\n",
              "    }\n",
              "\n",
              "    .colab-df-convert {\n",
              "      background-color: #E8F0FE;\n",
              "      border: none;\n",
              "      border-radius: 50%;\n",
              "      cursor: pointer;\n",
              "      display: none;\n",
              "      fill: #1967D2;\n",
              "      height: 32px;\n",
              "      padding: 0 0 0 0;\n",
              "      width: 32px;\n",
              "    }\n",
              "\n",
              "    .colab-df-convert:hover {\n",
              "      background-color: #E2EBFA;\n",
              "      box-shadow: 0px 1px 2px rgba(60, 64, 67, 0.3), 0px 1px 3px 1px rgba(60, 64, 67, 0.15);\n",
              "      fill: #174EA6;\n",
              "    }\n",
              "\n",
              "    [theme=dark] .colab-df-convert {\n",
              "      background-color: #3B4455;\n",
              "      fill: #D2E3FC;\n",
              "    }\n",
              "\n",
              "    [theme=dark] .colab-df-convert:hover {\n",
              "      background-color: #434B5C;\n",
              "      box-shadow: 0px 1px 3px 1px rgba(0, 0, 0, 0.15);\n",
              "      filter: drop-shadow(0px 1px 2px rgba(0, 0, 0, 0.3));\n",
              "      fill: #FFFFFF;\n",
              "    }\n",
              "  </style>\n",
              "\n",
              "      <script>\n",
              "        const buttonEl =\n",
              "          document.querySelector('#df-d3bcb0e1-8e88-454a-9dd1-761431798bf3 button.colab-df-convert');\n",
              "        buttonEl.style.display =\n",
              "          google.colab.kernel.accessAllowed ? 'block' : 'none';\n",
              "\n",
              "        async function convertToInteractive(key) {\n",
              "          const element = document.querySelector('#df-d3bcb0e1-8e88-454a-9dd1-761431798bf3');\n",
              "          const dataTable =\n",
              "            await google.colab.kernel.invokeFunction('convertToInteractive',\n",
              "                                                     [key], {});\n",
              "          if (!dataTable) return;\n",
              "\n",
              "          const docLinkHtml = 'Like what you see? Visit the ' +\n",
              "            '<a target=\"_blank\" href=https://colab.research.google.com/notebooks/data_table.ipynb>data table notebook</a>'\n",
              "            + ' to learn more about interactive tables.';\n",
              "          element.innerHTML = '';\n",
              "          dataTable['output_type'] = 'display_data';\n",
              "          await google.colab.output.renderOutput(dataTable, element);\n",
              "          const docLink = document.createElement('div');\n",
              "          docLink.innerHTML = docLinkHtml;\n",
              "          element.appendChild(docLink);\n",
              "        }\n",
              "      </script>\n",
              "    </div>\n",
              "  </div>\n",
              "  "
            ]
          },
          "metadata": {},
          "execution_count": 84
        }
      ]
    },
    {
      "cell_type": "code",
      "source": [
        ""
      ],
      "metadata": {
        "id": "kHH_fLW3Rl6X"
      },
      "execution_count": 84,
      "outputs": []
    }
  ]
}